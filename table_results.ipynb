{
  "nbformat": 4,
  "nbformat_minor": 0,
  "metadata": {
    "colab": {
      "provenance": [],
      "include_colab_link": true
    },
    "kernelspec": {
      "name": "python3",
      "display_name": "Python 3"
    },
    "language_info": {
      "name": "python"
    }
  },
  "cells": [
    {
      "cell_type": "markdown",
      "metadata": {
        "id": "view-in-github",
        "colab_type": "text"
      },
      "source": [
        "<a href=\"https://colab.research.google.com/github/FrancescoRito/Dashboard_F1/blob/main/table_results.ipynb\" target=\"_parent\"><img src=\"https://colab.research.google.com/assets/colab-badge.svg\" alt=\"Open In Colab\"/></a>"
      ]
    },
    {
      "cell_type": "code",
      "execution_count": null,
      "metadata": {
        "id": "or8GWUn1Oh3E"
      },
      "outputs": [],
      "source": [
        "from datetime import date\n",
        "import json as j\n",
        "import pandas as pd\n",
        "import requests as r\n",
        "\n",
        "#Find current year\n",
        "year = date.today().year\n",
        "\n",
        "#create a list from 1950 to current year\n",
        "years0=list(range(1950,year))\n",
        "\n",
        "#create a copy, rename and cast to string of list of the years\n",
        "base_url=years0.copy()\n",
        "for i in range(len(base_url)):\n",
        "    base_url[i] = 'http://ergast.com/api/f1/'+str(base_url[i])+'/results.json?limit=1000'\n",
        "\n",
        "#Create lists for the final dataframe\n",
        "seasons = []\n",
        "rounds = []\n",
        "raceNames = []\n",
        "circuits = []\n",
        "drivers = []\n",
        "positions = []\n",
        "points = []\n",
        "status = []\n",
        "constructors = []\n",
        "laps = []\n",
        "bestLaps = []\n",
        "\n",
        "#Looping to GET the data and transform them in json\n",
        "for y in range(len(base_url)):\n",
        "    response = r.get(base_url[y])\n",
        "    data = response.json()\n",
        "\n",
        "#Looping through the json file and fill the lists\n",
        "    for race in data['MRData']['RaceTable']['Races']:\n",
        "      for result in race['Results']:\n",
        "        seasons.append(data['MRData']['RaceTable']['season'])\n",
        "        rounds.append(race['round'])\n",
        "        raceNames.append(race['raceName'])\n",
        "        circuits.append(race['Circuit']['circuitId'])\n",
        "        drivers.append(result['Driver']['driverId'])\n",
        "        positions.append(result['position'])\n",
        "        points.append(result['points'])\n",
        "        status.append(result['status'])\n",
        "        constructors.append(result['Constructor']['constructorId'])\n",
        "        laps.append(result['laps'])\n",
        "        if 'FastestLap' in result:\n",
        "          bestLaps.append(str(result['FastestLap']['Time']['time']))\n",
        "        else:\n",
        "          bestLaps.append(' ')\n",
        "\n",
        "\n",
        "#Create the dataframe\n",
        "results_df = pd.DataFrame({'season': seasons,\n",
        "                          'round': rounds,\n",
        "                          'raceName': raceNames,\n",
        "                          'circuit': circuits,\n",
        "                          'driver': drivers,\n",
        "                          'position': positions,\n",
        "                          'points': points,\n",
        "                          'status': status,\n",
        "                          'constructor': constructors,\n",
        "                          'laps': laps,\n",
        "                          'FastestLap' : bestLaps\n",
        "                         })\n",
        "#create the column id.race\n",
        "results_df['id.race'] = results_df.apply(lambda row: 'id.race_' + str(row['season']) + '-' + str(row['round']), axis=1)\n",
        "\n",
        "# Define the function for the column type\n",
        "def race_type(row):\n",
        "    if (row['season'] == '2021' and row['round'] in [10, 14, 19]) or (row['season'] == '2022' and row['round'] in [4, 11, 21]):\n",
        "        return 'sprint'\n",
        "    else:\n",
        "        return 'classic'\n",
        "\n",
        "# Create the new column \"type\" and apply the function to each row\n",
        "results_df['type'] = results_df.apply(race_type, axis=1)\n",
        "\n",
        "\n",
        "#moving the new columns\n",
        "cols = results_df.columns.tolist()\n",
        "cols.insert(0, cols.pop(cols.index('id.race')))\n",
        "cols.insert(3, cols.pop(cols.index('type')))\n",
        "results_df = results_df.reindex(columns= cols)\n",
        "\n",
        "results_df.to_csv('results_df_3.csv')\n"
      ]
    },
    {
      "cell_type": "code",
      "source": [],
      "metadata": {
        "id": "1w-gOpPdO1et"
      },
      "execution_count": null,
      "outputs": []
    }
  ]
}