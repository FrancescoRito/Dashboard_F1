{
  "nbformat": 4,
  "nbformat_minor": 0,
  "metadata": {
    "colab": {
      "provenance": [],
      "include_colab_link": true
    },
    "kernelspec": {
      "name": "python3",
      "display_name": "Python 3"
    },
    "language_info": {
      "name": "python"
    }
  },
  "cells": [
    {
      "cell_type": "markdown",
      "metadata": {
        "id": "view-in-github",
        "colab_type": "text"
      },
      "source": [
        "<a href=\"https://colab.research.google.com/github/FrancescoRito/Dashboard_F1/blob/main/table_construcotrs.ipynb\" target=\"_parent\"><img src=\"https://colab.research.google.com/assets/colab-badge.svg\" alt=\"Open In Colab\"/></a>"
      ]
    },
    {
      "cell_type": "code",
      "source": [
        "import requests as r\n",
        "import json as j\n",
        "import pandas as pd\n",
        "\n",
        "base_url = \"http://ergast.com/api/f1/constructors.json\"\n",
        "\n",
        "\n",
        "#Get Connection with the API\n",
        "URL0= r.get(base_url)\n",
        "\n",
        "#Json the api link to get all the data\n",
        "info=URL0.json()\n",
        "\n",
        "total=info['MRData']['total']\n",
        "\n",
        "\n",
        "URL1=\"http://ergast.com/api/f1/constructors.json?limit=\"+total\n",
        "\n",
        "URL=r.get(URL1)\n",
        "\n",
        "#Import of the data in json format\n",
        "constr_info=URL.json()\n",
        "\n",
        "#Create a Dataframe with che columns constructorId, name, nationality\n",
        "constructors_df_1 = pd.DataFrame(constr_info['MRData']['ConstructorTable']['Constructors'])\n",
        "\n",
        "constructors_df = constructors_df_1.loc[:, constructors_df_1.columns!='url']\n",
        "\n",
        "constructors_df\n"
      ],
      "metadata": {
        "id": "hGkmr_d5i7h0"
      },
      "execution_count": null,
      "outputs": []
    }
  ]
}