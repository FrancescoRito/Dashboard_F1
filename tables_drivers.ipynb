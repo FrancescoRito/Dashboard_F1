{
  "nbformat": 4,
  "nbformat_minor": 0,
  "metadata": {
    "colab": {
      "provenance": [],
      "include_colab_link": true
    },
    "kernelspec": {
      "name": "python3",
      "display_name": "Python 3"
    },
    "language_info": {
      "name": "python"
    }
  },
  "cells": [
    {
      "cell_type": "markdown",
      "metadata": {
        "id": "view-in-github",
        "colab_type": "text"
      },
      "source": [
        "<a href=\"https://colab.research.google.com/github/FrancescoRito/Dashboard_F1/blob/main/tables_drivers.ipynb\" target=\"_parent\"><img src=\"https://colab.research.google.com/assets/colab-badge.svg\" alt=\"Open In Colab\"/></a>"
      ]
    },
    {
      "cell_type": "code",
      "source": [
        "import requests as r\n",
        "import json as j\n",
        "import pandas as pd\n",
        "\n",
        "base_url = \"http://ergast.com/api/f1/drivers.json\"\n",
        "\n",
        "#Get Connection with the API\n",
        "URL0= r.get(base_url)\n",
        "\n",
        "#Json the api link to get all the data\n",
        "info=URL0.json()\n",
        "\n",
        "total=info['MRData']['total']\n",
        "\n",
        "#URL della API Completa\n",
        "URL1=\"http://ergast.com/api/f1/drivers.json?limit=\"+total\n",
        "\n",
        "URL=r.get(URL1)\n",
        "\n",
        "#Import of the data in json format\n",
        "drivers_info=URL.json()\n",
        "\n",
        "#Create a Dataframe with che columns driverId, givenName, familyName, dateOfBirth, nationality\n",
        "drviers_df_1 = pd.DataFrame(drivers_info['MRData']['DriverTable']['Drivers'])\n",
        "drviers_df = drviers_df_1.loc[:, ~drviers_df_1.columns.isin(['url', 'permanentNumber','code'])]\n",
        "\n",
        "drviers_df"
      ],
      "metadata": {
        "id": "Cuys9qxcvdvx"
      },
      "execution_count": null,
      "outputs": []
    }
  ]
}